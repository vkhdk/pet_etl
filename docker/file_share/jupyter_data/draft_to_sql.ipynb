{
 "cells": [
  {
   "cell_type": "code",
   "execution_count": 80,
   "id": "73061098-0a4c-4e77-a7de-c9114733cd49",
   "metadata": {},
   "outputs": [],
   "source": [
    "import pandas as pd\n",
    "import numpy as np\n",
    "import re\n",
    "import datetime as dt\n",
    "from datetime import datetime\n",
    "import json\n",
    "from sqlalchemy.types import BigInteger, Time, Date, Float, Integer, Boolean, Text, TIMESTAMP"
   ]
  },
  {
   "cell_type": "code",
   "execution_count": 81,
   "id": "470c3149-2103-4ca8-a82a-b8a64e4c310f",
   "metadata": {},
   "outputs": [],
   "source": [
    "import sys"
   ]
  },
  {
   "cell_type": "code",
   "execution_count": 82,
   "id": "68c73b94-d906-467c-9973-e2cd3859c850",
   "metadata": {},
   "outputs": [],
   "source": [
    "sys.path.append('python_scripts/ETL_python_scripts/')"
   ]
  },
  {
   "cell_type": "code",
   "execution_count": 83,
   "id": "f3bd8b65-110d-4ae1-ab10-1ff37989075f",
   "metadata": {},
   "outputs": [],
   "source": [
    "import get_weather_from_google_search\n",
    "import get_data_from_api\n",
    "import ETL_utilities\n",
    "import db_connection"
   ]
  },
  {
   "cell_type": "code",
   "execution_count": 84,
   "id": "5377a060-fab3-4d21-92cc-1eb190e0efab",
   "metadata": {},
   "outputs": [],
   "source": [
    "city_names = ['Moscow', 'London']\n",
    "columns = ['weather_id',\n",
    "           'date',\n",
    "           'time',\n",
    "           'city_name',\n",
    "           'temp_c',\n",
    "           'temp_f']\n",
    "db_df = pd.DataFrame(columns=columns)"
   ]
  },
  {
   "cell_type": "code",
   "execution_count": 85,
   "id": "4b644fc4-6cc7-4f8c-901f-e5f6389265a6",
   "metadata": {},
   "outputs": [],
   "source": [
    "#take a city\n",
    "for city in city_names:\n",
    "    #put city in question\n",
    "    question = f'weather {city}'\n",
    "    #make soup with question\n",
    "    soup = get_data_from_api.soup_from_google_search(question)\n",
    "    #make json from soup\n",
    "    output_json = \\\n",
    "    get_weather_from_google_search.google_soup_to_json_weather(soup)\n",
    "    #create a dictionary to save the results\n",
    "    data_dict = {\n",
    "    #create unique id\n",
    "    'weather_id': ETL_utilities.create_unique_id_from_date(),\n",
    "    #create date feature\n",
    "    'date': datetime.now().date(),\n",
    "    'time': datetime.now().time(),\n",
    "    #data from json\n",
    "    #load string json as dict and write in data dict\n",
    "    'city_name': city,\n",
    "    'temp_c': json.loads(output_json)['temperature_c'],\n",
    "    'temp_f': json.loads(output_json)['temperature_f']}\n",
    "    #convert dictionary to df for concat\n",
    "    data_dict_df = pd.DataFrame([data_dict])\n",
    "    db_df = pd.concat([db_df,data_dict_df])"
   ]
  },
  {
   "cell_type": "code",
   "execution_count": 86,
   "id": "81b57585-0f21-41d3-8693-9e47c398fbdb",
   "metadata": {},
   "outputs": [
    {
     "data": {
      "text/html": [
       "<div>\n",
       "<style scoped>\n",
       "    .dataframe tbody tr th:only-of-type {\n",
       "        vertical-align: middle;\n",
       "    }\n",
       "\n",
       "    .dataframe tbody tr th {\n",
       "        vertical-align: top;\n",
       "    }\n",
       "\n",
       "    .dataframe thead th {\n",
       "        text-align: right;\n",
       "    }\n",
       "</style>\n",
       "<table border=\"1\" class=\"dataframe\">\n",
       "  <thead>\n",
       "    <tr style=\"text-align: right;\">\n",
       "      <th></th>\n",
       "      <th>weather_id</th>\n",
       "      <th>date</th>\n",
       "      <th>time</th>\n",
       "      <th>city_name</th>\n",
       "      <th>temp_c</th>\n",
       "      <th>temp_f</th>\n",
       "    </tr>\n",
       "  </thead>\n",
       "  <tbody>\n",
       "    <tr>\n",
       "      <th>0</th>\n",
       "      <td>202301-3016-0332-f177c4ba-04b3-4a6e-8b91-7439e...</td>\n",
       "      <td>2023-01-30</td>\n",
       "      <td>16:03:32.463003</td>\n",
       "      <td>Moscow</td>\n",
       "      <td>-1.0</td>\n",
       "      <td>31.0</td>\n",
       "    </tr>\n",
       "    <tr>\n",
       "      <th>0</th>\n",
       "      <td>202301-3016-0333-e35dc268-9860-4cb1-b90a-5e2c3...</td>\n",
       "      <td>2023-01-30</td>\n",
       "      <td>16:03:33.936686</td>\n",
       "      <td>London</td>\n",
       "      <td>9.0</td>\n",
       "      <td>48.0</td>\n",
       "    </tr>\n",
       "  </tbody>\n",
       "</table>\n",
       "</div>"
      ],
      "text/plain": [
       "                                          weather_id        date  \\\n",
       "0  202301-3016-0332-f177c4ba-04b3-4a6e-8b91-7439e...  2023-01-30   \n",
       "0  202301-3016-0333-e35dc268-9860-4cb1-b90a-5e2c3...  2023-01-30   \n",
       "\n",
       "              time city_name temp_c temp_f  \n",
       "0  16:03:32.463003    Moscow   -1.0   31.0  \n",
       "0  16:03:33.936686    London    9.0   48.0  "
      ]
     },
     "execution_count": 86,
     "metadata": {},
     "output_type": "execute_result"
    }
   ],
   "source": [
    "db_df"
   ]
  },
  {
   "cell_type": "code",
   "execution_count": 87,
   "id": "73b76559-30df-4f2a-a0bc-8f7eeac01512",
   "metadata": {},
   "outputs": [],
   "source": [
    "engine = db_connection.engine\n",
    "weather_dtypes = {'time': Time, \n",
    "        'date': Date, \n",
    "        'temp_c': Float, \n",
    "        'temp_f': Float}"
   ]
  },
  {
   "cell_type": "code",
   "execution_count": 88,
   "id": "832d629f-ab5b-4333-a42d-0b5bbd23c5f7",
   "metadata": {},
   "outputs": [],
   "source": [
    "weather_sql_query = '''\n",
    "CREATE TABLE IF NOT EXISTS weather_prod(\n",
    "weather_id TEXT,\n",
    "date DATE,\n",
    "time TIME,\n",
    "city_name TEXT,\n",
    "temp_c FLOAT,\n",
    "temp_f FLOAT);\n",
    "\n",
    "INSERT INTO weather_prod (weather_id,\n",
    "        date,\n",
    "        time,\n",
    "        city_name,\n",
    "        temp_c,\n",
    "        temp_f)\n",
    "(select weather_id,\n",
    "        date,\n",
    "        time,\n",
    "        city_name,\n",
    "        temp_c,\n",
    "        temp_f\n",
    "from weather_tmp);\n",
    "    '''"
   ]
  },
  {
   "cell_type": "raw",
   "id": "376b26b7-18ad-4338-9bbf-bd1869494701",
   "metadata": {},
   "source": []
  },
  {
   "cell_type": "code",
   "execution_count": 89,
   "id": "1860291c-d621-4c6b-a813-5b2323a4f087",
   "metadata": {},
   "outputs": [
    {
     "name": "stdout",
     "output_type": "stream",
     "text": [
      "weather loading into DB...\n",
      "weather_tmp loaded\n"
     ]
    }
   ],
   "source": [
    "db_connection.load_df_to_tpm_table(db_df, 'weather',  weather_dtypes)"
   ]
  },
  {
   "cell_type": "code",
   "execution_count": 91,
   "id": "0bfe3efd-9051-4bcc-a674-27d7158dcc04",
   "metadata": {},
   "outputs": [],
   "source": [
    "db_connection.load_tmp_table_to_prod_table(weather_sql_query)"
   ]
  },
  {
   "cell_type": "code",
   "execution_count": null,
   "id": "759d61f4-e407-4fd3-b567-1ac2e5974707",
   "metadata": {},
   "outputs": [],
   "source": []
  }
 ],
 "metadata": {
  "kernelspec": {
   "display_name": "Python 3 (ipykernel)",
   "language": "python",
   "name": "python3"
  },
  "language_info": {
   "codemirror_mode": {
    "name": "ipython",
    "version": 3
   },
   "file_extension": ".py",
   "mimetype": "text/x-python",
   "name": "python",
   "nbconvert_exporter": "python",
   "pygments_lexer": "ipython3",
   "version": "3.9.10"
  }
 },
 "nbformat": 4,
 "nbformat_minor": 5
}
