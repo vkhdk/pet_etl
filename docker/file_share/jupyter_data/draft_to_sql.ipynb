{
 "cells": [
  {
   "cell_type": "code",
   "execution_count": 12,
   "id": "73061098-0a4c-4e77-a7de-c9114733cd49",
   "metadata": {},
   "outputs": [],
   "source": [
    "import pandas as pd\n",
    "import numpy as np\n",
    "import re\n",
    "import datetime as dt\n",
    "from datetime import datetime\n",
    "import json\n",
    "from sqlalchemy.types import BigInteger, Time, Date, Float, Integer, Boolean, Text, TIMESTAMP"
   ]
  },
  {
   "cell_type": "code",
   "execution_count": 13,
   "id": "470c3149-2103-4ca8-a82a-b8a64e4c310f",
   "metadata": {},
   "outputs": [],
   "source": [
    "import sys"
   ]
  },
  {
   "cell_type": "code",
   "execution_count": 14,
   "id": "68c73b94-d906-467c-9973-e2cd3859c850",
   "metadata": {},
   "outputs": [],
   "source": [
    "sys.path.append('python_scripts/ETL_python_scripts/')"
   ]
  },
  {
   "cell_type": "code",
   "execution_count": 15,
   "id": "f3bd8b65-110d-4ae1-ab10-1ff37989075f",
   "metadata": {},
   "outputs": [],
   "source": [
    "import get_weather_from_google_search\n",
    "import get_data_from_api\n",
    "import ETL_utilities\n",
    "import db_connection"
   ]
  },
  {
   "cell_type": "code",
   "execution_count": 16,
   "id": "5377a060-fab3-4d21-92cc-1eb190e0efab",
   "metadata": {},
   "outputs": [],
   "source": [
    "city_names = ['Moscow', 'London']\n",
    "columns = ['weather_id',\n",
    "           'date',\n",
    "           'time',\n",
    "           'city_name',\n",
    "           'temp_c',\n",
    "           'temp_f']\n",
    "db_df = pd.DataFrame(columns=columns)"
   ]
  },
  {
   "cell_type": "code",
   "execution_count": 31,
   "id": "4b644fc4-6cc7-4f8c-901f-e5f6389265a6",
   "metadata": {},
   "outputs": [],
   "source": [
    "db_df = pd.DataFrame(columns=columns)\n",
    "\n",
    "#take a city\n",
    "for city in city_names:\n",
    "    #put city in question\n",
    "    question = f'weather {city}'\n",
    "    #make soup with question\n",
    "    soup = get_data_from_api.soup_from_google_search(question)\n",
    "    #make json from soup\n",
    "    output_json = \\\n",
    "    get_weather_from_google_search.google_soup_to_json_weather(soup)\n",
    "    #create a dictionary to save the results\n",
    "    data_dict = {\n",
    "    #create unique id\n",
    "    'weather_id': ETL_utilities.create_unique_id_from_date(),\n",
    "    #create date feature\n",
    "    'date': datetime.now().date(),\n",
    "    'time': datetime.now().time(),\n",
    "    #data from json\n",
    "    #load string json as dict and write in data dict\n",
    "    'city_name': city,\n",
    "    'temp_c': json.loads(output_json)['temperature_c'],\n",
    "    'temp_f': json.loads(output_json)['temperature_f']}\n",
    "    #convert dictionary to df for concat\n",
    "    data_dict_df = pd.DataFrame([data_dict])\n",
    "    db_df = pd.concat([db_df,data_dict_df])"
   ]
  },
  {
   "cell_type": "code",
   "execution_count": 32,
   "id": "81b57585-0f21-41d3-8693-9e47c398fbdb",
   "metadata": {},
   "outputs": [
    {
     "data": {
      "text/html": [
       "<div>\n",
       "<style scoped>\n",
       "    .dataframe tbody tr th:only-of-type {\n",
       "        vertical-align: middle;\n",
       "    }\n",
       "\n",
       "    .dataframe tbody tr th {\n",
       "        vertical-align: top;\n",
       "    }\n",
       "\n",
       "    .dataframe thead th {\n",
       "        text-align: right;\n",
       "    }\n",
       "</style>\n",
       "<table border=\"1\" class=\"dataframe\">\n",
       "  <thead>\n",
       "    <tr style=\"text-align: right;\">\n",
       "      <th></th>\n",
       "      <th>weather_id</th>\n",
       "      <th>date</th>\n",
       "      <th>time</th>\n",
       "      <th>city_name</th>\n",
       "      <th>temp_c</th>\n",
       "      <th>temp_f</th>\n",
       "    </tr>\n",
       "  </thead>\n",
       "  <tbody>\n",
       "    <tr>\n",
       "      <th>0</th>\n",
       "      <td>202301-3110-3222-84625840-c697-43e3-8ac8-6a41a...</td>\n",
       "      <td>2023-01-31</td>\n",
       "      <td>10:32:22.731413</td>\n",
       "      <td>Moscow</td>\n",
       "      <td>0.0</td>\n",
       "      <td>32.0</td>\n",
       "    </tr>\n",
       "    <tr>\n",
       "      <th>0</th>\n",
       "      <td>202301-3110-3224-b7c4bb71-e649-483f-847d-1f65d...</td>\n",
       "      <td>2023-01-31</td>\n",
       "      <td>10:32:24.196955</td>\n",
       "      <td>London</td>\n",
       "      <td>9.0</td>\n",
       "      <td>48.0</td>\n",
       "    </tr>\n",
       "  </tbody>\n",
       "</table>\n",
       "</div>"
      ],
      "text/plain": [
       "                                          weather_id        date  \\\n",
       "0  202301-3110-3222-84625840-c697-43e3-8ac8-6a41a...  2023-01-31   \n",
       "0  202301-3110-3224-b7c4bb71-e649-483f-847d-1f65d...  2023-01-31   \n",
       "\n",
       "              time city_name temp_c temp_f  \n",
       "0  10:32:22.731413    Moscow    0.0   32.0  \n",
       "0  10:32:24.196955    London    9.0   48.0  "
      ]
     },
     "execution_count": 32,
     "metadata": {},
     "output_type": "execute_result"
    }
   ],
   "source": [
    "db_df"
   ]
  },
  {
   "cell_type": "code",
   "execution_count": 19,
   "id": "73b76559-30df-4f2a-a0bc-8f7eeac01512",
   "metadata": {},
   "outputs": [],
   "source": [
    "engine = db_connection.engine\n",
    "weather_dtypes = {'time': Time, \n",
    "        'date': Date, \n",
    "        'temp_c': Float, \n",
    "        'temp_f': Float}"
   ]
  },
  {
   "cell_type": "code",
   "execution_count": 23,
   "id": "832d629f-ab5b-4333-a42d-0b5bbd23c5f7",
   "metadata": {},
   "outputs": [],
   "source": [
    "weather_sql_query = '''\n",
    "CREATE TABLE IF NOT EXISTS weather_prod(\n",
    "weather_id TEXT NOT NULL PRIMARY KEY,\n",
    "date DATE NOT NULL,\n",
    "time TIME NOT NULL,\n",
    "city_name TEXT NOT NULL,\n",
    "temp_c FLOAT NOT NULL,\n",
    "temp_f FLOAT NOT NULL);\n",
    "\n",
    "INSERT INTO weather_prod (weather_id,\n",
    "        date,\n",
    "        time,\n",
    "        city_name,\n",
    "        temp_c,\n",
    "        temp_f)\n",
    "(select weather_id,\n",
    "        date,\n",
    "        time,\n",
    "        city_name,\n",
    "        temp_c,\n",
    "        temp_f\n",
    "from weather_tmp);\n",
    "    '''"
   ]
  },
  {
   "cell_type": "raw",
   "id": "376b26b7-18ad-4338-9bbf-bd1869494701",
   "metadata": {},
   "source": []
  },
  {
   "cell_type": "code",
   "execution_count": 45,
   "id": "1860291c-d621-4c6b-a813-5b2323a4f087",
   "metadata": {},
   "outputs": [
    {
     "name": "stdout",
     "output_type": "stream",
     "text": [
      "weather loading into DB...\n",
      "weather_tmp loaded\n"
     ]
    }
   ],
   "source": [
    "db_connection.load_df_to_tpm_table(db_df, 'weather',  weather_dtypes)"
   ]
  },
  {
   "cell_type": "code",
   "execution_count": 46,
   "id": "0bfe3efd-9051-4bcc-a674-27d7158dcc04",
   "metadata": {},
   "outputs": [],
   "source": [
    "db_connection.load_tmp_table_to_prod_table(weather_sql_query)"
   ]
  },
  {
   "cell_type": "code",
   "execution_count": null,
   "id": "e9933529-89b4-4c62-a772-0ca0fa108d69",
   "metadata": {},
   "outputs": [],
   "source": []
  }
 ],
 "metadata": {
  "kernelspec": {
   "display_name": "Python 3 (ipykernel)",
   "language": "python",
   "name": "python3"
  },
  "language_info": {
   "codemirror_mode": {
    "name": "ipython",
    "version": 3
   },
   "file_extension": ".py",
   "mimetype": "text/x-python",
   "name": "python",
   "nbconvert_exporter": "python",
   "pygments_lexer": "ipython3",
   "version": "3.9.10"
  }
 },
 "nbformat": 4,
 "nbformat_minor": 5
}
