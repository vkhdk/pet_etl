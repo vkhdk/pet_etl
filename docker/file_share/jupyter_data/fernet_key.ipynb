{
 "cells": [
  {
   "cell_type": "code",
   "execution_count": 11,
   "id": "af1860f2-01c8-49d0-9ee8-eb0550fb455b",
   "metadata": {},
   "outputs": [],
   "source": [
    "from cryptography.fernet import Fernet\n",
    "FERNET_KEY = Fernet.generate_key().decode()"
   ]
  },
  {
   "cell_type": "code",
   "execution_count": 12,
   "id": "910fd414-1a47-4ed4-9059-187ebca3cfb7",
   "metadata": {},
   "outputs": [],
   "source": [
    "FERNET_KEY = Fernet.generate_key().decode()"
   ]
  },
  {
   "cell_type": "code",
   "execution_count": 13,
   "id": "e44fe652-700e-419f-8164-8bb909561f28",
   "metadata": {},
   "outputs": [
    {
     "name": "stdout",
     "output_type": "stream",
     "text": [
      "9uwLzOsJF4r2fIJYpETbN4HLZwS4fG6cUPY-P9vomXE=\n"
     ]
    }
   ],
   "source": [
    "print(FERNET_KEY)"
   ]
  },
  {
   "cell_type": "code",
   "execution_count": null,
   "id": "a76c144b-bc7c-4301-8abe-d79f4fe8c452",
   "metadata": {},
   "outputs": [],
   "source": []
  },
  {
   "cell_type": "code",
   "execution_count": null,
   "id": "e8b6b8e5-81e5-439f-a523-c3d9ae08e533",
   "metadata": {},
   "outputs": [],
   "source": []
  }
 ],
 "metadata": {
  "kernelspec": {
   "display_name": "Python 3 (ipykernel)",
   "language": "python",
   "name": "python3"
  },
  "language_info": {
   "codemirror_mode": {
    "name": "ipython",
    "version": 3
   },
   "file_extension": ".py",
   "mimetype": "text/x-python",
   "name": "python",
   "nbconvert_exporter": "python",
   "pygments_lexer": "ipython3",
   "version": "3.9.10"
  }
 },
 "nbformat": 4,
 "nbformat_minor": 5
}
