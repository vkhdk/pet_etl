{
 "cells": [
  {
   "cell_type": "code",
   "execution_count": 1,
   "id": "b5aaaab3-b527-4d6d-bb98-e6be6b245f77",
   "metadata": {},
   "outputs": [],
   "source": [
    "import pandas as pd\n",
    "import numpy as np\n",
    "import seaborn as sns\n",
    "import matplotlib.pyplot as plt\n",
    "import re\n",
    "import datetime as dt"
   ]
  },
  {
   "cell_type": "code",
   "execution_count": 2,
   "id": "86a0c589-247f-49e2-a60e-38067cdcd642",
   "metadata": {},
   "outputs": [],
   "source": [
    "df = pd.read_table('python_scripts/ETL_python_scripts/content.txt', sep=\"|\", header=0, index_col=1)"
   ]
  },
  {
   "cell_type": "code",
   "execution_count": 3,
   "id": "8da4367e-5bbd-4441-9a63-95a49c1c25bd",
   "metadata": {},
   "outputs": [
    {
     "data": {
      "text/html": [
       "<div>\n",
       "<style scoped>\n",
       "    .dataframe tbody tr th:only-of-type {\n",
       "        vertical-align: middle;\n",
       "    }\n",
       "\n",
       "    .dataframe tbody tr th {\n",
       "        vertical-align: top;\n",
       "    }\n",
       "\n",
       "    .dataframe thead th {\n",
       "        text-align: right;\n",
       "    }\n",
       "</style>\n",
       "<table border=\"1\" class=\"dataframe\">\n",
       "  <thead>\n",
       "    <tr style=\"text-align: right;\">\n",
       "      <th></th>\n",
       "      <th>Unnamed: 0</th>\n",
       "      <th>date</th>\n",
       "      <th>time</th>\n",
       "      <th>city_name</th>\n",
       "      <th>temp_c</th>\n",
       "      <th>temp_f</th>\n",
       "      <th>Unnamed: 7</th>\n",
       "    </tr>\n",
       "    <tr>\n",
       "      <th>weather_id</th>\n",
       "      <th></th>\n",
       "      <th></th>\n",
       "      <th></th>\n",
       "      <th></th>\n",
       "      <th></th>\n",
       "      <th></th>\n",
       "      <th></th>\n",
       "    </tr>\n",
       "  </thead>\n",
       "  <tbody>\n",
       "    <tr>\n",
       "      <th>:------------------------------------------------------</th>\n",
       "      <td>NaN</td>\n",
       "      <td>:-----------</td>\n",
       "      <td>:----------------</td>\n",
       "      <td>:------------</td>\n",
       "      <td>---------:</td>\n",
       "      <td>---------:</td>\n",
       "      <td>NaN</td>\n",
       "    </tr>\n",
       "    <tr>\n",
       "      <th>202301-2714-1211-297053ec-a1ce-4883-b0d5-95d63816ef9f</th>\n",
       "      <td>NaN</td>\n",
       "      <td>2023-01-27</td>\n",
       "      <td>14:12:11.218672</td>\n",
       "      <td>Moscow</td>\n",
       "      <td>-2</td>\n",
       "      <td>29</td>\n",
       "      <td>NaN</td>\n",
       "    </tr>\n",
       "    <tr>\n",
       "      <th>202301-2714-1212-228fb101-1e2b-4a4a-9a98-7858218c679b</th>\n",
       "      <td>NaN</td>\n",
       "      <td>2023-01-27</td>\n",
       "      <td>14:12:12.495382</td>\n",
       "      <td>London</td>\n",
       "      <td>8</td>\n",
       "      <td>46</td>\n",
       "      <td>NaN</td>\n",
       "    </tr>\n",
       "  </tbody>\n",
       "</table>\n",
       "</div>"
      ],
      "text/plain": [
       "                                                    Unnamed: 0   date         \\\n",
       " weather_id                                    ...                             \n",
       ":----------------------------------------------...         NaN  :-----------   \n",
       " 202301-2714-1211-297053ec-a1ce-4883-b0d5-95d63...         NaN   2023-01-27    \n",
       " 202301-2714-1212-228fb101-1e2b-4a4a-9a98-78582...         NaN   2023-01-27    \n",
       "\n",
       "                                                     time              \\\n",
       " weather_id                                    ...                      \n",
       ":----------------------------------------------...  :----------------   \n",
       " 202301-2714-1211-297053ec-a1ce-4883-b0d5-95d63...   14:12:11.218672    \n",
       " 202301-2714-1212-228fb101-1e2b-4a4a-9a98-78582...   14:12:12.495382    \n",
       "\n",
       "                                                     city_name        temp_c   \\\n",
       " weather_id                                    ...                              \n",
       ":----------------------------------------------...  :------------  ---------:   \n",
       " 202301-2714-1211-297053ec-a1ce-4883-b0d5-95d63...   Moscow               -2    \n",
       " 202301-2714-1212-228fb101-1e2b-4a4a-9a98-78582...   London                8    \n",
       "\n",
       "                                                       temp_f   Unnamed: 7  \n",
       " weather_id                                    ...                          \n",
       ":----------------------------------------------...  ---------:         NaN  \n",
       " 202301-2714-1211-297053ec-a1ce-4883-b0d5-95d63...         29          NaN  \n",
       " 202301-2714-1212-228fb101-1e2b-4a4a-9a98-78582...         46          NaN  "
      ]
     },
     "execution_count": 3,
     "metadata": {},
     "output_type": "execute_result"
    }
   ],
   "source": [
    "df.head()"
   ]
  },
  {
   "cell_type": "code",
   "execution_count": 4,
   "id": "dcc11c17-8da0-44a6-b2de-da660216bebb",
   "metadata": {},
   "outputs": [
    {
     "name": "stdout",
     "output_type": "stream",
     "text": [
      "<class 'pandas.core.frame.DataFrame'>\n",
      "Index: 3 entries, :------------------------------------------------------ to  202301-2714-1212-228fb101-1e2b-4a4a-9a98-7858218c679b \n",
      "Data columns (total 7 columns):\n",
      " #   Column             Non-Null Count  Dtype  \n",
      "---  ------             --------------  -----  \n",
      " 0   Unnamed: 0         0 non-null      float64\n",
      " 1    date              3 non-null      object \n",
      " 2    time              3 non-null      object \n",
      " 3    city_name         3 non-null      object \n",
      " 4      temp_c          3 non-null      object \n",
      " 5      temp_f          3 non-null      object \n",
      " 6   Unnamed: 7         0 non-null      float64\n",
      "dtypes: float64(2), object(5)\n",
      "memory usage: 192.0+ bytes\n"
     ]
    }
   ],
   "source": [
    "df.info()"
   ]
  },
  {
   "cell_type": "code",
   "execution_count": 5,
   "id": "32b2dcdb-4ce1-4591-9ffd-a610256940b8",
   "metadata": {},
   "outputs": [],
   "source": [
    "df = df.dropna(axis=1, how='all')"
   ]
  },
  {
   "cell_type": "code",
   "execution_count": 6,
   "id": "d955fa9b-23cc-4388-8c6d-397d5713bc56",
   "metadata": {},
   "outputs": [],
   "source": [
    "df = df.drop([':------------------------------------------------------'])"
   ]
  },
  {
   "cell_type": "code",
   "execution_count": 7,
   "id": "514d8d17-e11c-4844-90aa-743ae7e2133e",
   "metadata": {},
   "outputs": [
    {
     "data": {
      "text/plain": [
       "Index([' date       ', ' time            ', ' city_name   ', '   temp_c ',\n",
       "       '   temp_f '],\n",
       "      dtype='object')"
      ]
     },
     "execution_count": 7,
     "metadata": {},
     "output_type": "execute_result"
    }
   ],
   "source": [
    "df.columns"
   ]
  },
  {
   "cell_type": "code",
   "execution_count": 11,
   "id": "2018391e-eac4-4414-a0f6-8c5b52ff1bfc",
   "metadata": {},
   "outputs": [],
   "source": [
    "df.columns = ['date', 'time', 'city_name', 'temp_c', 'temp_f']"
   ]
  },
  {
   "cell_type": "code",
   "execution_count": 12,
   "id": "5ec89060-1f30-4714-be2a-3a42e70301fc",
   "metadata": {},
   "outputs": [
    {
     "data": {
      "text/html": [
       "<div>\n",
       "<style scoped>\n",
       "    .dataframe tbody tr th:only-of-type {\n",
       "        vertical-align: middle;\n",
       "    }\n",
       "\n",
       "    .dataframe tbody tr th {\n",
       "        vertical-align: top;\n",
       "    }\n",
       "\n",
       "    .dataframe thead th {\n",
       "        text-align: right;\n",
       "    }\n",
       "</style>\n",
       "<table border=\"1\" class=\"dataframe\">\n",
       "  <thead>\n",
       "    <tr style=\"text-align: right;\">\n",
       "      <th></th>\n",
       "      <th>date</th>\n",
       "      <th>time</th>\n",
       "      <th>city_name</th>\n",
       "      <th>temp_c</th>\n",
       "      <th>temp_f</th>\n",
       "    </tr>\n",
       "    <tr>\n",
       "      <th>weather_id</th>\n",
       "      <th></th>\n",
       "      <th></th>\n",
       "      <th></th>\n",
       "      <th></th>\n",
       "      <th></th>\n",
       "    </tr>\n",
       "  </thead>\n",
       "  <tbody>\n",
       "    <tr>\n",
       "      <th>202301-2714-1211-297053ec-a1ce-4883-b0d5-95d63816ef9f</th>\n",
       "      <td>2023-01-27</td>\n",
       "      <td>14:12:11.218672</td>\n",
       "      <td>Moscow</td>\n",
       "      <td>-2</td>\n",
       "      <td>29</td>\n",
       "    </tr>\n",
       "    <tr>\n",
       "      <th>202301-2714-1212-228fb101-1e2b-4a4a-9a98-7858218c679b</th>\n",
       "      <td>2023-01-27</td>\n",
       "      <td>14:12:12.495382</td>\n",
       "      <td>London</td>\n",
       "      <td>8</td>\n",
       "      <td>46</td>\n",
       "    </tr>\n",
       "  </tbody>\n",
       "</table>\n",
       "</div>"
      ],
      "text/plain": [
       "                                                            date  \\\n",
       " weather_id                                    ...                 \n",
       " 202301-2714-1211-297053ec-a1ce-4883-b0d5-95d63...   2023-01-27    \n",
       " 202301-2714-1212-228fb101-1e2b-4a4a-9a98-78582...   2023-01-27    \n",
       "\n",
       "                                                                 time  \\\n",
       " weather_id                                    ...                      \n",
       " 202301-2714-1211-297053ec-a1ce-4883-b0d5-95d63...   14:12:11.218672    \n",
       " 202301-2714-1212-228fb101-1e2b-4a4a-9a98-78582...   14:12:12.495382    \n",
       "\n",
       "                                                        city_name      temp_c  \\\n",
       " weather_id                                    ...                              \n",
       " 202301-2714-1211-297053ec-a1ce-4883-b0d5-95d63...   Moscow               -2    \n",
       " 202301-2714-1212-228fb101-1e2b-4a4a-9a98-78582...   London                8    \n",
       "\n",
       "                                                        temp_f  \n",
       " weather_id                                    ...              \n",
       " 202301-2714-1211-297053ec-a1ce-4883-b0d5-95d63...         29   \n",
       " 202301-2714-1212-228fb101-1e2b-4a4a-9a98-78582...         46   "
      ]
     },
     "execution_count": 12,
     "metadata": {},
     "output_type": "execute_result"
    }
   ],
   "source": [
    "df.head()"
   ]
  },
  {
   "cell_type": "code",
   "execution_count": 13,
   "id": "d8e34066-8dd8-4ec3-be6f-c2291955a761",
   "metadata": {},
   "outputs": [
    {
     "name": "stdout",
     "output_type": "stream",
     "text": [
      "<class 'pandas.core.frame.DataFrame'>\n",
      "Index: 2 entries,  202301-2714-1211-297053ec-a1ce-4883-b0d5-95d63816ef9f  to  202301-2714-1212-228fb101-1e2b-4a4a-9a98-7858218c679b \n",
      "Data columns (total 5 columns):\n",
      " #   Column     Non-Null Count  Dtype \n",
      "---  ------     --------------  ----- \n",
      " 0   date       2 non-null      object\n",
      " 1   time       2 non-null      object\n",
      " 2   city_name  2 non-null      object\n",
      " 3   temp_c     2 non-null      object\n",
      " 4   temp_f     2 non-null      object\n",
      "dtypes: object(5)\n",
      "memory usage: 96.0+ bytes\n"
     ]
    }
   ],
   "source": [
    "df.info()"
   ]
  },
  {
   "cell_type": "code",
   "execution_count": null,
   "id": "da2970fb-4d6e-408f-996c-728cbb214e07",
   "metadata": {},
   "outputs": [],
   "source": []
  },
  {
   "cell_type": "code",
   "execution_count": 15,
   "id": "c3fca8f1-e915-46e5-944b-c67e94baa1e8",
   "metadata": {},
   "outputs": [],
   "source": [
    "import sys"
   ]
  },
  {
   "cell_type": "code",
   "execution_count": 17,
   "id": "ebd37997-ba2c-4c06-93d1-049a2cb48b8e",
   "metadata": {},
   "outputs": [],
   "source": [
    "sys.path.append('python_scripts/')"
   ]
  },
  {
   "cell_type": "markdown",
   "id": "43144fee-b1cf-472a-9a1f-4ed532eaa48b",
   "metadata": {},
   "source": [
    "# write to DB"
   ]
  },
  {
   "cell_type": "code",
   "execution_count": 18,
   "id": "7b420000-b68d-4d1a-a6de-e268585bf215",
   "metadata": {},
   "outputs": [],
   "source": [
    "from ETL_python_scripts import db_connection"
   ]
  },
  {
   "cell_type": "code",
   "execution_count": 20,
   "id": "308bf4ed-5437-4442-86ee-fbb99ba2206c",
   "metadata": {},
   "outputs": [],
   "source": [
    "engine = db_connection.engine"
   ]
  },
  {
   "cell_type": "code",
   "execution_count": 21,
   "id": "c011fbaf-0a15-4e9b-b68b-06ec9738dbde",
   "metadata": {},
   "outputs": [
    {
     "data": {
      "text/plain": [
       "2"
      ]
     },
     "execution_count": 21,
     "metadata": {},
     "output_type": "execute_result"
    }
   ],
   "source": [
    "table_name = 'weather'\n",
    "df.to_sql(table_name, engine, if_exists='replace')"
   ]
  },
  {
   "cell_type": "markdown",
   "id": "17d94a08-7cbb-4d11-a8c1-ff0512b4c0ea",
   "metadata": {},
   "source": [
    "# read from DB"
   ]
  },
  {
   "cell_type": "code",
   "execution_count": 23,
   "id": "0fbeb348-49d8-4f2c-b329-59d5884deb01",
   "metadata": {},
   "outputs": [],
   "source": [
    "sql_query = f'select * from {table_name}'\n",
    "df_from_db = pd.read_sql_query(sql_query, con=engine)"
   ]
  },
  {
   "cell_type": "code",
   "execution_count": 24,
   "id": "b9a7894a-d3a4-44f1-bc91-3fc98675bdeb",
   "metadata": {},
   "outputs": [
    {
     "data": {
      "text/html": [
       "<div>\n",
       "<style scoped>\n",
       "    .dataframe tbody tr th:only-of-type {\n",
       "        vertical-align: middle;\n",
       "    }\n",
       "\n",
       "    .dataframe tbody tr th {\n",
       "        vertical-align: top;\n",
       "    }\n",
       "\n",
       "    .dataframe thead th {\n",
       "        text-align: right;\n",
       "    }\n",
       "</style>\n",
       "<table border=\"1\" class=\"dataframe\">\n",
       "  <thead>\n",
       "    <tr style=\"text-align: right;\">\n",
       "      <th></th>\n",
       "      <th>weather_id</th>\n",
       "      <th>date</th>\n",
       "      <th>time</th>\n",
       "      <th>city_name</th>\n",
       "      <th>temp_c</th>\n",
       "      <th>temp_f</th>\n",
       "    </tr>\n",
       "  </thead>\n",
       "  <tbody>\n",
       "    <tr>\n",
       "      <th>0</th>\n",
       "      <td>202301-2714-1211-297053ec-a1ce-4883-b0d5-95d6...</td>\n",
       "      <td>2023-01-27</td>\n",
       "      <td>14:12:11.218672</td>\n",
       "      <td>Moscow</td>\n",
       "      <td>-2</td>\n",
       "      <td>29</td>\n",
       "    </tr>\n",
       "    <tr>\n",
       "      <th>1</th>\n",
       "      <td>202301-2714-1212-228fb101-1e2b-4a4a-9a98-7858...</td>\n",
       "      <td>2023-01-27</td>\n",
       "      <td>14:12:12.495382</td>\n",
       "      <td>London</td>\n",
       "      <td>8</td>\n",
       "      <td>46</td>\n",
       "    </tr>\n",
       "  </tbody>\n",
       "</table>\n",
       "</div>"
      ],
      "text/plain": [
       "   weather_id                                                      date  \\\n",
       "0   202301-2714-1211-297053ec-a1ce-4883-b0d5-95d6...        2023-01-27    \n",
       "1   202301-2714-1212-228fb101-1e2b-4a4a-9a98-7858...        2023-01-27    \n",
       "\n",
       "                time      city_name      temp_c      temp_f  \n",
       "0   14:12:11.218672    Moscow               -2          29   \n",
       "1   14:12:12.495382    London                8          46   "
      ]
     },
     "execution_count": 24,
     "metadata": {},
     "output_type": "execute_result"
    }
   ],
   "source": [
    "df_from_db"
   ]
  },
  {
   "cell_type": "code",
   "execution_count": null,
   "id": "2b9b4e29-bd18-44ba-bff2-8ebbcacc32f6",
   "metadata": {},
   "outputs": [],
   "source": []
  }
 ],
 "metadata": {
  "kernelspec": {
   "display_name": "Python 3 (ipykernel)",
   "language": "python",
   "name": "python3"
  },
  "language_info": {
   "codemirror_mode": {
    "name": "ipython",
    "version": 3
   },
   "file_extension": ".py",
   "mimetype": "text/x-python",
   "name": "python",
   "nbconvert_exporter": "python",
   "pygments_lexer": "ipython3",
   "version": "3.9.10"
  }
 },
 "nbformat": 4,
 "nbformat_minor": 5
}
