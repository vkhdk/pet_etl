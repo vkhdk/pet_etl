{
 "cells": [
  {
   "cell_type": "code",
   "execution_count": 1,
   "id": "b5aaaab3-b527-4d6d-bb98-e6be6b245f77",
   "metadata": {},
   "outputs": [],
   "source": [
    "import pandas as pd\n",
    "import numpy as np\n",
    "import seaborn as sns\n",
    "import matplotlib.pyplot as plt\n",
    "import re\n",
    "import datetime as dt"
   ]
  },
  {
   "cell_type": "code",
   "execution_count": null,
   "id": "86a0c589-247f-49e2-a60e-38067cdcd642",
   "metadata": {},
   "outputs": [],
   "source": [
    "df = pd.read_table('python_scripts/ETL_python_scripts/content.txt', sep=\"|\", header=0, index_col=1)"
   ]
  },
  {
   "cell_type": "code",
   "execution_count": null,
   "id": "8da4367e-5bbd-4441-9a63-95a49c1c25bd",
   "metadata": {},
   "outputs": [],
   "source": [
    "df.head()"
   ]
  },
  {
   "cell_type": "code",
   "execution_count": null,
   "id": "dcc11c17-8da0-44a6-b2de-da660216bebb",
   "metadata": {},
   "outputs": [],
   "source": [
    "df.info()"
   ]
  },
  {
   "cell_type": "code",
   "execution_count": null,
   "id": "32b2dcdb-4ce1-4591-9ffd-a610256940b8",
   "metadata": {},
   "outputs": [],
   "source": [
    "df = df.dropna(axis=1, how='all')"
   ]
  },
  {
   "cell_type": "code",
   "execution_count": null,
   "id": "d955fa9b-23cc-4388-8c6d-397d5713bc56",
   "metadata": {},
   "outputs": [],
   "source": [
    "df = df.drop([':------------------------------------------------------'])"
   ]
  },
  {
   "cell_type": "code",
   "execution_count": null,
   "id": "514d8d17-e11c-4844-90aa-743ae7e2133e",
   "metadata": {},
   "outputs": [],
   "source": [
    "df.columns"
   ]
  },
  {
   "cell_type": "code",
   "execution_count": null,
   "id": "2018391e-eac4-4414-a0f6-8c5b52ff1bfc",
   "metadata": {},
   "outputs": [],
   "source": [
    "df.columns = ['date', 'time', 'city_name', 'temp_c', 'temp_f']"
   ]
  },
  {
   "cell_type": "code",
   "execution_count": null,
   "id": "5ec89060-1f30-4714-be2a-3a42e70301fc",
   "metadata": {},
   "outputs": [],
   "source": [
    "df.head()"
   ]
  },
  {
   "cell_type": "code",
   "execution_count": null,
   "id": "d8e34066-8dd8-4ec3-be6f-c2291955a761",
   "metadata": {},
   "outputs": [],
   "source": [
    "df.info()"
   ]
  },
  {
   "cell_type": "code",
   "execution_count": null,
   "id": "da2970fb-4d6e-408f-996c-728cbb214e07",
   "metadata": {},
   "outputs": [],
   "source": []
  },
  {
   "cell_type": "code",
   "execution_count": 3,
   "id": "c3fca8f1-e915-46e5-944b-c67e94baa1e8",
   "metadata": {},
   "outputs": [],
   "source": [
    "import sys"
   ]
  },
  {
   "cell_type": "code",
   "execution_count": 4,
   "id": "ebd37997-ba2c-4c06-93d1-049a2cb48b8e",
   "metadata": {},
   "outputs": [],
   "source": [
    "sys.path.append('python_scripts/ETL_python_scripts/')"
   ]
  },
  {
   "cell_type": "markdown",
   "id": "43144fee-b1cf-472a-9a1f-4ed532eaa48b",
   "metadata": {},
   "source": [
    "# write to DB"
   ]
  },
  {
   "cell_type": "code",
   "execution_count": 5,
   "id": "7b420000-b68d-4d1a-a6de-e268585bf215",
   "metadata": {},
   "outputs": [],
   "source": [
    "import ETL_secrets"
   ]
  },
  {
   "cell_type": "code",
   "execution_count": 6,
   "id": "eb1379a4-3426-48b5-a4b7-6085d246061a",
   "metadata": {},
   "outputs": [],
   "source": [
    "import db_connection"
   ]
  },
  {
   "cell_type": "code",
   "execution_count": 7,
   "id": "10bc9a5a-5b16-45a1-a808-d356247faf0c",
   "metadata": {},
   "outputs": [],
   "source": [
    "#importing public libraries\n",
    "from sqlalchemy import create_engine\n"
   ]
  },
  {
   "cell_type": "code",
   "execution_count": 8,
   "id": "308bf4ed-5437-4442-86ee-fbb99ba2206c",
   "metadata": {},
   "outputs": [],
   "source": [
    "engine = db_connection.engine"
   ]
  },
  {
   "cell_type": "code",
   "execution_count": 10,
   "id": "c011fbaf-0a15-4e9b-b68b-06ec9738dbde",
   "metadata": {},
   "outputs": [],
   "source": [
    "table_name = 'weather'"
   ]
  },
  {
   "cell_type": "code",
   "execution_count": null,
   "id": "eed28d1c-f70d-477c-a805-6a9ab5d7abbc",
   "metadata": {},
   "outputs": [],
   "source": [
    "df.to_sql(table_name, engine, if_exists='replace')"
   ]
  },
  {
   "cell_type": "markdown",
   "id": "17d94a08-7cbb-4d11-a8c1-ff0512b4c0ea",
   "metadata": {},
   "source": [
    "# read from DB"
   ]
  },
  {
   "cell_type": "code",
   "execution_count": 11,
   "id": "0fbeb348-49d8-4f2c-b329-59d5884deb01",
   "metadata": {},
   "outputs": [],
   "source": [
    "sql_query = f'select * from {table_name}'\n",
    "df_from_db = pd.read_sql_query(sql_query, con=engine)"
   ]
  },
  {
   "cell_type": "code",
   "execution_count": 12,
   "id": "b9a7894a-d3a4-44f1-bc91-3fc98675bdeb",
   "metadata": {},
   "outputs": [
    {
     "data": {
      "text/html": [
       "<div>\n",
       "<style scoped>\n",
       "    .dataframe tbody tr th:only-of-type {\n",
       "        vertical-align: middle;\n",
       "    }\n",
       "\n",
       "    .dataframe tbody tr th {\n",
       "        vertical-align: top;\n",
       "    }\n",
       "\n",
       "    .dataframe thead th {\n",
       "        text-align: right;\n",
       "    }\n",
       "</style>\n",
       "<table border=\"1\" class=\"dataframe\">\n",
       "  <thead>\n",
       "    <tr style=\"text-align: right;\">\n",
       "      <th></th>\n",
       "      <th>weather_id</th>\n",
       "      <th>date</th>\n",
       "      <th>time</th>\n",
       "      <th>city_name</th>\n",
       "      <th>temp_c</th>\n",
       "      <th>temp_f</th>\n",
       "    </tr>\n",
       "  </thead>\n",
       "  <tbody>\n",
       "    <tr>\n",
       "      <th>0</th>\n",
       "      <td>202301-2808-2155-27638a26-1510-408c-a198-954c...</td>\n",
       "      <td>2023-01-28</td>\n",
       "      <td>08:21:55.778829</td>\n",
       "      <td>Moscow</td>\n",
       "      <td>-3</td>\n",
       "      <td>26</td>\n",
       "    </tr>\n",
       "    <tr>\n",
       "      <th>1</th>\n",
       "      <td>202301-2808-2158-a526693d-ba05-4d06-b45c-d8a4...</td>\n",
       "      <td>2023-01-28</td>\n",
       "      <td>08:21:58.485620</td>\n",
       "      <td>London</td>\n",
       "      <td>4</td>\n",
       "      <td>39</td>\n",
       "    </tr>\n",
       "  </tbody>\n",
       "</table>\n",
       "</div>"
      ],
      "text/plain": [
       "   weather_id                                                      date  \\\n",
       "0   202301-2808-2155-27638a26-1510-408c-a198-954c...        2023-01-28    \n",
       "1   202301-2808-2158-a526693d-ba05-4d06-b45c-d8a4...        2023-01-28    \n",
       "\n",
       "                time      city_name      temp_c      temp_f  \n",
       "0   08:21:55.778829    Moscow               -3          26   \n",
       "1   08:21:58.485620    London                4          39   "
      ]
     },
     "execution_count": 12,
     "metadata": {},
     "output_type": "execute_result"
    }
   ],
   "source": [
    "df_from_db"
   ]
  },
  {
   "cell_type": "markdown",
   "id": "b9be329d-0213-4707-b7ca-0ee9338535c6",
   "metadata": {},
   "source": [
    "удивительно, но пишет в БД и даже вычитывает.\n",
    "Надо разобраться с пересборой контейнеров. Почему-то опять были проблемы с библиотекой tabulate хотя в коде ее нет."
   ]
  },
  {
   "cell_type": "code",
   "execution_count": null,
   "id": "1010f386-e677-4b04-90fe-7296dd187649",
   "metadata": {},
   "outputs": [],
   "source": []
  },
  {
   "cell_type": "code",
   "execution_count": null,
   "id": "a60f5d9d-1a0b-4e3d-a211-dee50c0bb497",
   "metadata": {},
   "outputs": [],
   "source": []
  }
 ],
 "metadata": {
  "kernelspec": {
   "display_name": "Python 3 (ipykernel)",
   "language": "python",
   "name": "python3"
  },
  "language_info": {
   "codemirror_mode": {
    "name": "ipython",
    "version": 3
   },
   "file_extension": ".py",
   "mimetype": "text/x-python",
   "name": "python",
   "nbconvert_exporter": "python",
   "pygments_lexer": "ipython3",
   "version": "3.9.10"
  }
 },
 "nbformat": 4,
 "nbformat_minor": 5
}
