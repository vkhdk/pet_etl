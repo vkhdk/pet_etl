{
 "cells": [
  {
   "cell_type": "markdown",
   "id": "a7622255-b019-4473-a42d-388f9ddaa2d0",
   "metadata": {},
   "source": [
    "##### Sorry, but everything is written in Russian\n",
    "# Мануал по ETL.\n",
    "##### Данный ETL процесс создан мной для проверки некоторых идей и только."
   ]
  },
  {
   "cell_type": "markdown",
   "id": "c779e128-e2d0-426c-8deb-2c48cba6313b",
   "metadata": {},
   "source": [
    "### Как обновляются данные в таблицах DB"
   ]
  },
  {
   "cell_type": "markdown",
   "id": "c0f926ae-9c53-4f3f-967c-32051aef7e6e",
   "metadata": {},
   "source": [
    "В данной статье хорошо разбирается несколько примеров https://blog.panoply.io/how-to-load-pandas-dataframes-into-sql.\n",
    "\n",
    "Если коротко:\n",
    "- Можно использовать pd.to_sql(), но она будет работать медленно при обновлении больших таблиц. Есть вопрос по поводу закрытия соединения. Тут https://pandas.pydata.org/pandas-docs/stable/reference/api/pandas.DataFrame.to_sql.html написано \"The user is responsible for engine disposal and connection closure\". Однозначной информации не нашел. Например тут https://stackoverflow.com/questions/42034373/does-pandas-need-to-close-connection предлагают использовать with, но вопрос до конца не ясен. \n",
    "\n",
    "- Рекомендуют использовать комбинированный методов pandas + sql. Записываем новые данные для обновления во временную таблицу используя pandas, а потом обновляем основную таблицу используя SQL. Пример в статье или ниже:"
   ]
  },
  {
   "cell_type": "raw",
   "id": "315fa5c5-f1c1-4b64-984a-2474573787fa",
   "metadata": {},
   "source": [
    "#созаем временную таблицу\n",
    "#параметр dtype позволяет задать тип данных в таблице\n",
    "\n",
    "leads_dtypes = {'Телефон': BigInteger, 'ID водителя': BigInteger, 'Номер_неоформленного': BigInteger,\n",
    "                'Время': Time, 'Дата': Date}\n",
    "\n",
    "def load_to_tmp(df, table_name, dtypes):\n",
    "    print(f'{table_name} loading into DB...')\n",
    "    # save to Marketing.dw.{table_name}_tmp\n",
    "    df.to_sql(f'{table_name}_tmp', con=db.engine, if_exists='replace', index=False,\n",
    "              chunksize=10_000, method='multi', dtype=dtypes)\n",
    "    print(f'{table_name}_tmp loaded')"
   ]
  },
  {
   "cell_type": "markdown",
   "id": "bd08297f-1caa-4edf-9187-526e75b19c75",
   "metadata": {},
   "source": [
    "После создания временной таблицы данные из нее переносятся в основную. Например, так:"
   ]
  },
  {
   "cell_type": "raw",
   "id": "c41366e1-aeac-400a-88f2-79925af055fc",
   "metadata": {},
   "source": [
    "def lead_to_fact_table():\n",
    "    with engine.connect() as con:\n",
    "        # Load into leads fact table from dw\n",
    "        con.execute(text(\n",
    "            \"\"\"\n",
    "            insert into tk.facts(\n",
    "                 \"Номер_неоформленного\"\n",
    "                , \"ID\"\n",
    "                , \"Расстояние заказа\"\n",
    "                , x_in\n",
    "                , y_in\n",
    "                , x_out\n",
    "                , y_out\n",
    "                , \"Процент зоны подачи\"\n",
    "                , \"кол_промеж_тчк\"\n",
    "                , \"База 1\"\n",
    "                , \"К пробок\"\n",
    "                , \"кол_заказов_клиента\"\n",
    "                , \"Таксометр лида\"\n",
    "                , \"Время подачи\"\n",
    "                , \"База 2\"\n",
    "                , \"Расчет по базе 2\"\n",
    "                , \"Дата\"\n",
    "                , \"Время\"\n",
    "                , app_v_id\n",
    "                , accept_source_id\n",
    "                , req_car_type_id\n",
    "                , city_id\n",
    "                , zone_in_id\n",
    "                , zone_out_id\n",
    "                , client_id\n",
    "                , status_id)\n",
    "            select\n",
    "                  \"Номер_неоформленного\"\n",
    "                , \"ID\"\n",
    "                , \"Расстояние заказа\"\n",
    "                , x_in\n",
    "                , y_in\n",
    "                , x_out\n",
    "                , y_out\n",
    "                , \"Процент зоны подачи\"\n",
    "                , \"Кол_промеж_тчк\"\n",
    "                , \"База 1\"\n",
    "                , \"К пробок\"\n",
    "                , \"Кол_заказов_клиента\"\n",
    "                , \"Таксометр\"\n",
    "                , \"Время подачи\"\n",
    "                , \"База 2\"\n",
    "                , \"Расчет по базе 2\"\n",
    "                , \"Дата\"\n",
    "                , \"Время\"\n",
    "                , avd.app_v_id\n",
    "                , acs.accept_source_id\n",
    "                , req_car_type_id\n",
    "                , c.city_id\n",
    "                , zone_in_id\n",
    "                , zone_out_id\n",
    "                , cd.client_id\n",
    "                , sd.status_id\n",
    "            from dw.leads_tmp ld\n",
    "            left join tk.app_version_dim avd on avd.\"Версия прилаги\" = ld.\"Версия_прилаги\"\n",
    "            left join tk.accept_source_dim acs on acs.\"Источник принятия\" = ld.\"Источник принятия\"\t\n",
    "            left join tk.req_car_type_dim ct on ct.\"Требуемый тип авто\" = ld.\"Требуемый тип авто\" \t\n",
    "            left join tk.city_dim c on c.\"Город\" = ld.\"Город\"\n",
    "            left join tk.zone_in_dim zi on zi.\"Название зоны подачи\" = ld.\"Название зоны подачи\"\t\n",
    "            left join tk.zone_out_dim zo on zo.\"Название зоны назначения\" = ld.\"Название зоны назначения\"\n",
    "            left join tk.client_dim cd on ld.\"Телефон\" = cd.\"Телефон\"\n",
    "            left join tk.status_dim sd on ld.\"Статус\" = sd.\"Статус\"\n",
    "            on conflict (\"Номер_неоформленного\") do nothing;\n",
    "            \"\"\"))\n",
    "    print('Leads table loaded')"
   ]
  },
  {
   "cell_type": "markdown",
   "id": "4677da35-243c-4104-b35b-1b66e18d0687",
   "metadata": {},
   "source": [
    "в статье предлагают использовать запрос с UPDATE"
   ]
  },
  {
   "cell_type": "raw",
   "id": "b4da2d69-5d78-4865-92ce-f66106284fe3",
   "metadata": {},
   "source": [
    "\"\"\"\n",
    "insert into tk.facts(\n",
    "    \"ID\"\n",
    "    , x_in\n",
    "    , y_in\n",
    "\n",
    "select\n",
    "    \"ID\"\n",
    "    , x_in\n",
    "    , y_in\n",
    "from dw.facts_tmp;\n",
    "\"\"\""
   ]
  },
  {
   "cell_type": "markdown",
   "id": "09e51432-6f52-424e-88d4-f4597bb98b80",
   "metadata": {},
   "source": [
    "### Настройка сети"
   ]
  },
  {
   "cell_type": "markdown",
   "id": "127684ee-2314-4037-9162-696696edfca9",
   "metadata": {},
   "source": [
    "Для корректной работы pgadmin настроил сеть в docker-compose.yml.\n",
    "Для этого необходимо прописать параметр для каждого контейнера + прописать общую сеть в конце файла\n",
    "\n",
    "В каждом контейнере:\n",
    "networks:\n",
    "      - postgres\n",
    "\n",
    "Общая настройка:\n",
    "networks:\n",
    "  postgres:\n",
    "    driver: bridge\n",
    "\n",
    "В какой-то момент настроил сеть только для контейнера pgadmin и postgres. После этого данные из jupyter перестали загружаться в postgres. После добавления jupyter в сеть с postgres все заработало."
   ]
  },
  {
   "cell_type": "markdown",
   "id": "59bd5c62-f33c-4503-afbb-0b8fb318fa8b",
   "metadata": {},
   "source": [
    "### pgadmin"
   ]
  },
  {
   "cell_type": "markdown",
   "id": "e9e9f78c-82b7-42fc-a0fa-c71edd12b5e3",
   "metadata": {},
   "source": [
    "Веб форма открывается на локальном хосте http://localhost:5050/\n",
    "При входе запрашивает пароль. Необходимо ввести пароль пользователя postgres"
   ]
  }
 ],
 "metadata": {
  "kernelspec": {
   "display_name": "Python 3 (ipykernel)",
   "language": "python",
   "name": "python3"
  },
  "language_info": {
   "codemirror_mode": {
    "name": "ipython",
    "version": 3
   },
   "file_extension": ".py",
   "mimetype": "text/x-python",
   "name": "python",
   "nbconvert_exporter": "python",
   "pygments_lexer": "ipython3",
   "version": "3.9.10"
  }
 },
 "nbformat": 4,
 "nbformat_minor": 5
}
