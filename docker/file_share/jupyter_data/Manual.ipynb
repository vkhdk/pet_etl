{
 "cells": [
  {
   "cell_type": "markdown",
   "id": "a7622255-b019-4473-a42d-388f9ddaa2d0",
   "metadata": {},
   "source": [
    "##### Sorry, but everything is written in Russian\n",
    "# Мануал по ETL.\n",
    "### Данный ETL процесс создан мной для проверки некоторых идей и только."
   ]
  },
  {
   "cell_type": "markdown",
   "id": "c0f926ae-9c53-4f3f-967c-32051aef7e6e",
   "metadata": {},
   "source": [
    "Проект реализован с использованием контейнеров Doker"
   ]
  }
 ],
 "metadata": {
  "kernelspec": {
   "display_name": "Python 3 (ipykernel)",
   "language": "python",
   "name": "python3"
  },
  "language_info": {
   "codemirror_mode": {
    "name": "ipython",
    "version": 3
   },
   "file_extension": ".py",
   "mimetype": "text/x-python",
   "name": "python",
   "nbconvert_exporter": "python",
   "pygments_lexer": "ipython3",
   "version": "3.9.10"
  }
 },
 "nbformat": 4,
 "nbformat_minor": 5
}
